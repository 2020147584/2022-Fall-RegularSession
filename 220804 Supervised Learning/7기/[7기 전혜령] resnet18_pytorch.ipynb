{
  "nbformat": 4,
  "nbformat_minor": 0,
  "metadata": {
    "colab": {
      "name": "resnet18_pytorch.ipynb",
      "provenance": [],
      "collapsed_sections": []
    },
    "kernelspec": {
      "name": "python3",
      "display_name": "Python 3"
    },
    "language_info": {
      "name": "python"
    },
    "accelerator": "GPU",
    "gpuClass": "standard"
  },
  "cells": [
    {
      "cell_type": "code",
      "source": [
        "from google.colab import drive\n",
        "drive.mount('/content/drive')"
      ],
      "metadata": {
        "colab": {
          "base_uri": "https://localhost:8080/"
        },
        "id": "DlFfZ7Need_p",
        "outputId": "4eb2c5ed-3060-4761-c4e8-f2b455731e73"
      },
      "execution_count": 1,
      "outputs": [
        {
          "output_type": "stream",
          "name": "stdout",
          "text": [
            "Mounted at /content/drive\n"
          ]
        }
      ]
    },
    {
      "cell_type": "code",
      "execution_count": 2,
      "metadata": {
        "id": "GPDohb35WYaM"
      },
      "outputs": [],
      "source": [
        "import torch\n",
        "import torchvision\n",
        "from torchvision import transforms # 이미지 데이터 transform\n",
        "from torch.utils.data import DataLoader # 이미지 데이터 로더\n",
        "import os\n",
        "import glob\n",
        "import numpy as np"
      ]
    },
    {
      "cell_type": "code",
      "source": [
        "device = 'cuda' if torch.cuda.is_available() else 'cpu'\n",
        "\n",
        "torch.manual_seed(777)\n",
        "if device == 'cuda':\n",
        "  torch.cuda.manual_seed_all(777)"
      ],
      "metadata": {
        "id": "0FDVeeYGWeZV"
      },
      "execution_count": 3,
      "outputs": []
    },
    {
      "cell_type": "code",
      "source": [
        "# 경로 지정\n",
        "\n",
        "train_path = '/content/drive/MyDrive/resnet/train'\n",
        "test_path = '/content/drive/MyDrive/resnet/test'\n",
        "\n",
        "cloudy_dir = '/cloudy/'\n",
        "desert_dir = '/desert/'\n",
        "green_area_dir = '/green_area/'\n",
        "water_dir = '/water/'"
      ],
      "metadata": {
        "id": "lYwLBtSTWg2D"
      },
      "execution_count": 4,
      "outputs": []
    },
    {
      "cell_type": "markdown",
      "source": [
        "## 1. 이미지 전처리"
      ],
      "metadata": {
        "id": "wCE1dxjKWkoc"
      }
    },
    {
      "cell_type": "markdown",
      "source": [
        "### Resize"
      ],
      "metadata": {
        "id": "y73xHOoIg8JE"
      }
    },
    {
      "cell_type": "code",
      "source": [
        "resize_trans = transforms.Compose([\n",
        "                                   transforms.Resize((224,224)),\n",
        "                                   transforms.ToTensor()\n",
        "])\n",
        "\n",
        "resize_train = torchvision.datasets.ImageFolder(root=train_path, transform=resize_trans)\n",
        "resize_test = torchvision.datasets.ImageFolder(root=test_path, transform=resize_trans)"
      ],
      "metadata": {
        "id": "PLJOS83uWqAM"
      },
      "execution_count": 6,
      "outputs": []
    },
    {
      "cell_type": "code",
      "source": [
        "resize_train[0][0].shape # ToTensor를 진행했기 때문에 데이터가 torch(C,H,W) 형태로 바뀜"
      ],
      "metadata": {
        "colab": {
          "base_uri": "https://localhost:8080/"
        },
        "id": "YqZLG0nkWs-C",
        "outputId": "b2880004-a6b4-42d0-9d6e-b218b88c1532"
      },
      "execution_count": 7,
      "outputs": [
        {
          "output_type": "execute_result",
          "data": {
            "text/plain": [
              "torch.Size([3, 224, 224])"
            ]
          },
          "metadata": {},
          "execution_count": 7
        }
      ]
    },
    {
      "cell_type": "code",
      "source": [
        "def get_mean_std(dataset):\n",
        "  meanRGB = [np.mean(image.numpy(), axis=(1,2)) for image,_ in dataset]\n",
        "  stdRGB = [np.std(image.numpy(), axis=(1,2)) for image,_ in dataset]\n",
        "\n",
        "  meanR = np.mean([m[0] for m in meanRGB])\n",
        "  meanG = np.mean([m[1] for m in meanRGB])\n",
        "  meanB = np.mean([m[2] for m in meanRGB])\n",
        "\n",
        "  stdR = np.mean([s[0] for s in stdRGB])\n",
        "  stdG = np.mean([s[1] for s in stdRGB])\n",
        "  stdB = np.mean([s[2] for s in stdRGB])\n",
        "\n",
        "  print(meanR, meanG, meanB)\n",
        "  print(stdR, stdG, stdB)"
      ],
      "metadata": {
        "id": "QvC4F4IlW6J3"
      },
      "execution_count": 8,
      "outputs": []
    },
    {
      "cell_type": "code",
      "source": [
        "get_mean_std(resize_train)\n",
        "#get_mean_std(resize_test)"
      ],
      "metadata": {
        "colab": {
          "base_uri": "https://localhost:8080/"
        },
        "id": "rCgbARs3XC69",
        "outputId": "6e9e0dd3-a0a8-4414-f333-5d9a8d9a219b"
      },
      "execution_count": 10,
      "outputs": [
        {
          "output_type": "stream",
          "name": "stdout",
          "text": [
            "0.396681 0.4300841 0.4285057\n",
            "0.021899834 0.01966338 0.01832072\n"
          ]
        }
      ]
    },
    {
      "cell_type": "code",
      "source": [
        "# normalization 준비\n",
        "\n",
        "resize_train_mean=[0.396681, 0.4300841, 0.4285057]\n",
        "resize_train_std=[0.021899834, 0.01966338, 0.01832072]\n",
        "\n",
        "resize_test_mean=[0.4240499, 0.44134825, 0.4272582]\n",
        "resize_test_std=[0.023734404, 0.020983115, 0.019922968]"
      ],
      "metadata": {
        "id": "mQLHuB4EXMwj"
      },
      "execution_count": 11,
      "outputs": []
    },
    {
      "cell_type": "markdown",
      "source": [
        "### Augmentation"
      ],
      "metadata": {
        "id": "sxwY76gsgjf5"
      }
    },
    {
      "cell_type": "code",
      "source": [
        "transform_train = transforms.Compose([\n",
        "    transforms.Resize((224, 224)), # 이미지 resize\n",
        "    transforms.RandomCrop(124), # 이미지를 랜덤으로 크롭\n",
        "    transforms.ColorJitter(brightness=0.2, contrast=0.2, saturation=0.2, hue=0.2), # 이미지 지터링(밝기, 대조, 채비, 색조)\n",
        "    transforms.RandomHorizontalFlip(p = 1), # p확률로 이미지 좌우반전\n",
        "    transforms.RandomVerticalFlip(p = 1), # p확률로 상하반전\n",
        "    transforms.ToTensor(),\n",
        "    transforms.Normalize(resize_train_mean, resize_train_std)\n",
        "])\n",
        "\n",
        "transform_test = transforms.Compose([\n",
        "    transforms.Resize((224, 224)), \n",
        "    transforms.ToTensor(),\n",
        "    transforms.Normalize(resize_test_mean, resize_test_std)\n",
        "])\n",
        "\n",
        "trainset = torchvision.datasets.ImageFolder(root=train_path, transform=transform_train)\n",
        "testset = torchvision.datasets.ImageFolder(root=test_path, transform=transform_test)"
      ],
      "metadata": {
        "id": "-bghTEkMgyBH"
      },
      "execution_count": 12,
      "outputs": []
    },
    {
      "cell_type": "markdown",
      "source": [
        "### 이미지 확인"
      ],
      "metadata": {
        "id": "vqHDX_OakUuc"
      }
    },
    {
      "cell_type": "code",
      "source": [
        "import matplotlib.pyplot as plt\n",
        "import numpy as np\n",
        "\n",
        "%matplotlib inline\n",
        "\n",
        "def imshow(img, mean, std):\n",
        "    npimg = img.numpy()\n",
        "    img = np.transpose( npimg, (1, 2, 0) )\n",
        "    img = img * std + mean # renormalize\n",
        "    img = img.clip(0, 1)\n",
        "    plt.imshow(img)\n",
        "    plt.show()\n",
        "\n",
        "none_trans = torchvision.datasets.ImageFolder(root=train_path, transform=None)"
      ],
      "metadata": {
        "id": "hNXuzP_VkSxl"
      },
      "execution_count": 13,
      "outputs": []
    },
    {
      "cell_type": "code",
      "source": [
        "# 원본 이미지\n",
        "none_trans[25][0]"
      ],
      "metadata": {
        "colab": {
          "base_uri": "https://localhost:8080/",
          "height": 273
        },
        "id": "cehozac3kaR8",
        "outputId": "5aa02363-386b-4501-8de0-b5092eaec5f4"
      },
      "execution_count": 14,
      "outputs": [
        {
          "output_type": "execute_result",
          "data": {
            "text/plain": [
              "<PIL.Image.Image image mode=RGB size=256x256 at 0x7FC41A234610>"
            ],
            "image/png": "[encoded data removed]"
          },
          "metadata": {},
          "execution_count": 14
        }
      ]
    },
    {
      "cell_type": "code",
      "source": [
        "# augmentation을 적용한 이미지\n",
        "imshow((trainset[25][0]),resize_train_mean,resize_train_std)"
      ],
      "metadata": {
        "colab": {
          "base_uri": "https://localhost:8080/",
          "height": 268
        },
        "id": "ELuPDL1YkdTV",
        "outputId": "c5ae4651-9e2e-46c4-9456-3588f9c9156c"
      },
      "execution_count": 15,
      "outputs": [
        {
          "output_type": "display_data",
          "data": {
            "text/plain": [
              "<Figure size 432x288 with 1 Axes>"
            ],
            "image/png": "[encoded data removed]"
          },
          "metadata": {
            "needs_background": "light"
          }
        }
      ]
    },
    {
      "cell_type": "code",
      "source": [
        "# dataloader 정의\n",
        "trainloader = torch.utils.data.DataLoader(trainset, batch_size=16,\n",
        "                                          shuffle=True, num_workers=0)\n",
        "\n",
        "testloader = torch.utils.data.DataLoader(testset, batch_size=16,\n",
        "                                         shuffle=False, num_workers=0)"
      ],
      "metadata": {
        "id": "xJ_8ENh9kk59"
      },
      "execution_count": 16,
      "outputs": []
    },
    {
      "cell_type": "markdown",
      "source": [
        "## Resnet18 모델 정의"
      ],
      "metadata": {
        "id": "Jm9yJ6SNlg7t"
      }
    },
    {
      "cell_type": "code",
      "source": [
        "import torch\n",
        "import torch.nn as nn\n",
        "import torch.nn.functional as F\n",
        "import torch.backends.cudnn as cudnn\n",
        "import torch.optim as optim\n",
        "import os"
      ],
      "metadata": {
        "id": "5Yjt1VOAloH0"
      },
      "execution_count": 17,
      "outputs": []
    },
    {
      "cell_type": "code",
      "source": [
        "# ResNet18을 위해 최대한 간단히 수정한 BasicBlock 클래스 정의\n",
        "class BasicBlock(nn.Module):\n",
        "    def __init__(self, in_planes, planes, stride=1):\n",
        "        super(BasicBlock, self).__init__()\n",
        "\n",
        "        # 3x3 필터를 사용 (너비와 높이를 줄일 때는 stride 값 조절)\n",
        "        self.conv1 = nn.Conv2d(in_planes, planes, kernel_size=3, stride=stride, padding=1, bias=False)\n",
        "        self.bn1 = nn.BatchNorm2d(planes) # 배치 정규화(batch normalization)\n",
        "\n",
        "        # 3x3 필터를 사용 (패딩을 1만큼 주기 때문에 너비와 높이가 동일)\n",
        "        self.conv2 = nn.Conv2d(planes, planes, kernel_size=3, stride=1, padding=1, bias=False)\n",
        "        self.bn2 = nn.BatchNorm2d(planes) # 배치 정규화(batch normalization)\n",
        "\n",
        "        self.shortcut = nn.Sequential() # identity인 경우\n",
        "        if stride != 1: # stride가 1이 아니라면, Identity mapping이 아닌 경우\n",
        "            self.shortcut = nn.Sequential(\n",
        "                nn.Conv2d(in_planes, planes, kernel_size=1, stride=stride, bias=False),\n",
        "                nn.BatchNorm2d(planes)\n",
        "            )\n",
        "\n",
        "    def forward(self, x):\n",
        "        out = F.relu(self.bn1(self.conv1(x)))\n",
        "        out = self.bn2(self.conv2(out))\n",
        "        out += self.shortcut(x) # (핵심) skip connection\n",
        "        out = F.relu(out)\n",
        "        return out\n",
        "\n",
        "\n",
        "# ResNet 클래스 정의\n",
        "class ResNet(nn.Module):\n",
        "    def __init__(self, block, num_blocks, num_classes=4):\n",
        "        super(ResNet, self).__init__()\n",
        "        self.in_planes = 64\n",
        "\n",
        "        # 64개의 3x3 필터(filter)를 사용\n",
        "        self.conv1 = nn.Conv2d(3, 64, kernel_size=3, stride=1, padding=1, bias=False)\n",
        "        self.bn1 = nn.BatchNorm2d(64)\n",
        "        self.relu = nn.ReLU(inplace=True)\n",
        "        self.maxpool = nn.MaxPool2d(kernel_size=3, stride=2, padding=1)\n",
        "\n",
        "        self.layer1 = self._make_layer(block, 64, num_blocks[0], stride=1)\n",
        "        self.layer2 = self._make_layer(block, 128, num_blocks[1], stride=2)\n",
        "        self.layer3 = self._make_layer(block, 256, num_blocks[2], stride=2)\n",
        "        self.layer4 = self._make_layer(block, 512, num_blocks[3], stride=2)\n",
        "\n",
        "        self.linear = nn.Linear(512, num_classes)\n",
        "\n",
        "    def _make_layer(self, block, planes, num_blocks, stride):\n",
        "        strides = [stride] + [1] * (num_blocks - 1)\n",
        "        layers = []\n",
        "        for stride in strides:\n",
        "            layers.append(block(self.in_planes, planes, stride))\n",
        "            self.in_planes = planes # 다음 레이어를 위해 채널 수 변경\n",
        "        return nn.Sequential(*layers)\n",
        "\n",
        "    def forward(self, x):\n",
        "        out = F.relu(self.bn1(self.conv1(x)))\n",
        "        out = self.layer1(out)\n",
        "        out = self.layer2(out)\n",
        "        out = self.layer3(out)\n",
        "        out = self.layer4(out)\n",
        "        out = F.avg_pool2d(out, 4)\n",
        "        out = out.view(out.size(0), -1)\n",
        "        out = self.linear(out)\n",
        "        return out\n",
        "\n",
        "\n",
        "# ResNet18 함수 정의\n",
        "def ResNet18():\n",
        "    return ResNet(BasicBlock, [2, 2, 2, 2])"
      ],
      "metadata": {
        "id": "c_CkYSlwllfB"
      },
      "execution_count": 18,
      "outputs": []
    },
    {
      "cell_type": "code",
      "source": [
        "class BasicBlock(nn.Module):\n",
        "    expansion = 1\n",
        "    def __init__(self, in_channels, out_channels, stride=1):\n",
        "        super().__init__()\n",
        "\n",
        "        # BatchNorm에 bias가 포함되어 있으므로, conv2d는 bias=False로 설정합니다.\n",
        "        self.residual_function = nn.Sequential(\n",
        "            nn.Conv2d(in_channels, out_channels, kernel_size=3, stride=stride, padding=1, bias=False),\n",
        "            nn.BatchNorm2d(out_channels),\n",
        "            nn.ReLU(),\n",
        "            nn.Conv2d(out_channels, out_channels * BasicBlock.expansion, kernel_size=3, stride=1, padding=1, bias=False),\n",
        "            nn.BatchNorm2d(out_channels * BasicBlock.expansion),\n",
        "        )\n",
        "\n",
        "        # identity mapping, input과 output의 feature map size, filter 수가 동일한 경우 사용.\n",
        "        self.shortcut = nn.Sequential()\n",
        "\n",
        "        self.relu = nn.ReLU()\n",
        "\n",
        "        # projection mapping using 1x1conv\n",
        "        if stride != 1 or in_channels != BasicBlock.expansion * out_channels:\n",
        "            self.shortcut = nn.Sequential(\n",
        "                nn.Conv2d(in_channels, out_channels * BasicBlock.expansion, kernel_size=1, stride=stride, bias=False),\n",
        "                nn.BatchNorm2d(out_channels * BasicBlock.expansion)\n",
        "            )\n",
        "\n",
        "    def forward(self, x):\n",
        "        x = self.residual_function(x) + self.shortcut(x)\n",
        "        x = self.relu(x)\n",
        "        return x\n",
        "\n",
        "\n",
        "class BottleNeck(nn.Module):\n",
        "    expansion = 4\n",
        "    def __init__(self, in_channels, out_channels, stride=1):\n",
        "        super().__init__()\n",
        "\n",
        "        self.residual_function = nn.Sequential(\n",
        "            nn.Conv2d(in_channels, out_channels, kernel_size=1, stride=1, bias=False),\n",
        "            nn.BatchNorm2d(out_channels),\n",
        "            nn.ReLU(),\n",
        "            nn.Conv2d(out_channels, out_channels, kernel_size=3, stride=stride, padding=1, bias=False),\n",
        "            nn.BatchNorm2d(out_channels),\n",
        "            nn.ReLU(),\n",
        "            nn.Conv2d(out_channels, out_channels * BottleNeck.expansion, kernel_size=1, stride=1, bias=False),\n",
        "            nn.BatchNorm2d(out_channels * BottleNeck.expansion),\n",
        "        )\n",
        "\n",
        "        self.shortcut = nn.Sequential()\n",
        "\n",
        "        self.relu = nn.ReLU()\n",
        "\n",
        "        if stride != 1 or in_channels != out_channels * BottleNeck.expansion:\n",
        "            self.shortcut = nn.Sequential(\n",
        "                nn.Conv2d(in_channels, out_channels*BottleNeck.expansion, kernel_size=1, stride=stride, bias=False),\n",
        "                nn.BatchNorm2d(out_channels*BottleNeck.expansion)\n",
        "            )\n",
        "            \n",
        "    def forward(self, x):\n",
        "        x = self.residual_function(x) + self.shortcut(x)\n",
        "        x = self.relu(x)\n",
        "        return x"
      ],
      "metadata": {
        "id": "Kexw5E1BE7j1"
      },
      "execution_count": 22,
      "outputs": []
    },
    {
      "cell_type": "code",
      "source": [
        "class ResNet(nn.Module):\n",
        "    def __init__(self, block, num_block, num_classes=10, init_weights=True):\n",
        "        super().__init__()\n",
        "\n",
        "        self.in_channels=64\n",
        "\n",
        "        self.conv1 = nn.Sequential(\n",
        "            nn.Conv2d(3, 64, kernel_size=7, stride=2, padding=3, bias=False),\n",
        "            nn.BatchNorm2d(64),\n",
        "            nn.ReLU(),\n",
        "            nn.MaxPool2d(kernel_size=3, stride=2, padding=1)\n",
        "        )\n",
        "\n",
        "        self.conv2_x = self._make_layer(block, 64, num_block[0], 1)\n",
        "        self.conv3_x = self._make_layer(block, 128, num_block[1], 2)\n",
        "        self.conv4_x = self._make_layer(block, 256, num_block[2], 2)\n",
        "        self.conv5_x = self._make_layer(block, 512, num_block[3], 2)\n",
        "\n",
        "        self.avg_pool = nn.AdaptiveAvgPool2d((1,1))\n",
        "        self.fc = nn.Linear(512 * block.expansion, num_classes)\n",
        "\n",
        "        # weights inittialization\n",
        "        if init_weights:\n",
        "            self._initialize_weights()\n",
        "\n",
        "    def _make_layer(self, block, out_channels, num_blocks, stride):\n",
        "        strides = [stride] + [1] * (num_blocks - 1)\n",
        "        layers = []\n",
        "        for stride in strides:\n",
        "            layers.append(block(self.in_channels, out_channels, stride))\n",
        "            self.in_channels = out_channels * block.expansion\n",
        "\n",
        "        return nn.Sequential(*layers)\n",
        "\n",
        "    def forward(self,x):\n",
        "        output = self.conv1(x)\n",
        "        output = self.conv2_x(output)\n",
        "        x = self.conv3_x(output)\n",
        "        x = self.conv4_x(x)\n",
        "        x = self.conv5_x(x)\n",
        "        x = self.avg_pool(x)\n",
        "        x = x.view(x.size(0), -1)\n",
        "        x = self.fc(x)\n",
        "        return x\n",
        "\n",
        "    # define weight initialization function\n",
        "    def _initialize_weights(self):\n",
        "        for m in self.modules():\n",
        "            if isinstance(m, nn.Conv2d):\n",
        "                nn.init.kaiming_normal_(m.weight, mode='fan_out', nonlinearity='relu')\n",
        "                if m.bias is not None:\n",
        "                    nn.init.constant_(m.bias, 0)\n",
        "            elif isinstance(m, nn.BatchNorm2d):\n",
        "                nn.init.constant_(m.weight, 1)\n",
        "                nn.init.constant_(m.bias, 0)\n",
        "            elif isinstance(m, nn.Linear):\n",
        "                nn.init.normal_(m.weight, 0, 0.01)\n",
        "                nn.init.constant_(m.bias, 0)\n",
        "\n",
        "def resnet18():\n",
        "    return ResNet(BasicBlock, [2,2,2,2])"
      ],
      "metadata": {
        "id": "bA7CC8dnE9sc"
      },
      "execution_count": 23,
      "outputs": []
    },
    {
      "cell_type": "code",
      "source": [
        "device = torch.device('cuda' if torch.cuda.is_available() else 'cpu')\n",
        "model = resnet18().to(device)\n",
        "x = torch.randn(3, 3, 224, 224).to(device)\n",
        "output = model(x)\n",
        "print(output.size())"
      ],
      "metadata": {
        "colab": {
          "base_uri": "https://localhost:8080/"
        },
        "id": "tFo0i-T3FDjt",
        "outputId": "3158bba7-f956-4363-be7c-af36ac416069"
      },
      "execution_count": 25,
      "outputs": [
        {
          "output_type": "stream",
          "name": "stdout",
          "text": [
            "torch.Size([3, 10])\n"
          ]
        }
      ]
    },
    {
      "cell_type": "code",
      "source": [
        "from torchsummary import summary\n",
        "summary(model, (3, 224, 224), device=device.type)"
      ],
      "metadata": {
        "colab": {
          "base_uri": "https://localhost:8080/"
        },
        "id": "tY7J_uIIFHyn",
        "outputId": "c0aeb01c-bb63-4853-bba3-d425f893c658"
      },
      "execution_count": 27,
      "outputs": [
        {
          "output_type": "stream",
          "name": "stdout",
          "text": [
            "----------------------------------------------------------------\n",
            "        Layer (type)               Output Shape         Param #\n",
            "================================================================\n",
            "            Conv2d-1         [-1, 64, 112, 112]           9,408\n",
            "       BatchNorm2d-2         [-1, 64, 112, 112]             128\n",
            "              ReLU-3         [-1, 64, 112, 112]               0\n",
            "         MaxPool2d-4           [-1, 64, 56, 56]               0\n",
            "            Conv2d-5           [-1, 64, 56, 56]          36,864\n",
            "       BatchNorm2d-6           [-1, 64, 56, 56]             128\n",
            "              ReLU-7           [-1, 64, 56, 56]               0\n",
            "            Conv2d-8           [-1, 64, 56, 56]          36,864\n",
            "       BatchNorm2d-9           [-1, 64, 56, 56]             128\n",
            "             ReLU-10           [-1, 64, 56, 56]               0\n",
            "       BasicBlock-11           [-1, 64, 56, 56]               0\n",
            "           Conv2d-12           [-1, 64, 56, 56]          36,864\n",
            "      BatchNorm2d-13           [-1, 64, 56, 56]             128\n",
            "             ReLU-14           [-1, 64, 56, 56]               0\n",
            "           Conv2d-15           [-1, 64, 56, 56]          36,864\n",
            "      BatchNorm2d-16           [-1, 64, 56, 56]             128\n",
            "             ReLU-17           [-1, 64, 56, 56]               0\n",
            "       BasicBlock-18           [-1, 64, 56, 56]               0\n",
            "           Conv2d-19          [-1, 128, 28, 28]          73,728\n",
            "      BatchNorm2d-20          [-1, 128, 28, 28]             256\n",
            "             ReLU-21          [-1, 128, 28, 28]               0\n",
            "           Conv2d-22          [-1, 128, 28, 28]         147,456\n",
            "      BatchNorm2d-23          [-1, 128, 28, 28]             256\n",
            "           Conv2d-24          [-1, 128, 28, 28]           8,192\n",
            "      BatchNorm2d-25          [-1, 128, 28, 28]             256\n",
            "             ReLU-26          [-1, 128, 28, 28]               0\n",
            "       BasicBlock-27          [-1, 128, 28, 28]               0\n",
            "           Conv2d-28          [-1, 128, 28, 28]         147,456\n",
            "      BatchNorm2d-29          [-1, 128, 28, 28]             256\n",
            "             ReLU-30          [-1, 128, 28, 28]               0\n",
            "           Conv2d-31          [-1, 128, 28, 28]         147,456\n",
            "      BatchNorm2d-32          [-1, 128, 28, 28]             256\n",
            "             ReLU-33          [-1, 128, 28, 28]               0\n",
            "       BasicBlock-34          [-1, 128, 28, 28]               0\n",
            "           Conv2d-35          [-1, 256, 14, 14]         294,912\n",
            "      BatchNorm2d-36          [-1, 256, 14, 14]             512\n",
            "             ReLU-37          [-1, 256, 14, 14]               0\n",
            "           Conv2d-38          [-1, 256, 14, 14]         589,824\n",
            "      BatchNorm2d-39          [-1, 256, 14, 14]             512\n",
            "           Conv2d-40          [-1, 256, 14, 14]          32,768\n",
            "      BatchNorm2d-41          [-1, 256, 14, 14]             512\n",
            "             ReLU-42          [-1, 256, 14, 14]               0\n",
            "       BasicBlock-43          [-1, 256, 14, 14]               0\n",
            "           Conv2d-44          [-1, 256, 14, 14]         589,824\n",
            "      BatchNorm2d-45          [-1, 256, 14, 14]             512\n",
            "             ReLU-46          [-1, 256, 14, 14]               0\n",
            "           Conv2d-47          [-1, 256, 14, 14]         589,824\n",
            "      BatchNorm2d-48          [-1, 256, 14, 14]             512\n",
            "             ReLU-49          [-1, 256, 14, 14]               0\n",
            "       BasicBlock-50          [-1, 256, 14, 14]               0\n",
            "           Conv2d-51            [-1, 512, 7, 7]       1,179,648\n",
            "      BatchNorm2d-52            [-1, 512, 7, 7]           1,024\n",
            "             ReLU-53            [-1, 512, 7, 7]               0\n",
            "           Conv2d-54            [-1, 512, 7, 7]       2,359,296\n",
            "      BatchNorm2d-55            [-1, 512, 7, 7]           1,024\n",
            "           Conv2d-56            [-1, 512, 7, 7]         131,072\n",
            "      BatchNorm2d-57            [-1, 512, 7, 7]           1,024\n",
            "             ReLU-58            [-1, 512, 7, 7]               0\n",
            "       BasicBlock-59            [-1, 512, 7, 7]               0\n",
            "           Conv2d-60            [-1, 512, 7, 7]       2,359,296\n",
            "      BatchNorm2d-61            [-1, 512, 7, 7]           1,024\n",
            "             ReLU-62            [-1, 512, 7, 7]               0\n",
            "           Conv2d-63            [-1, 512, 7, 7]       2,359,296\n",
            "      BatchNorm2d-64            [-1, 512, 7, 7]           1,024\n",
            "             ReLU-65            [-1, 512, 7, 7]               0\n",
            "       BasicBlock-66            [-1, 512, 7, 7]               0\n",
            "AdaptiveAvgPool2d-67            [-1, 512, 1, 1]               0\n",
            "           Linear-68                   [-1, 10]           5,130\n",
            "================================================================\n",
            "Total params: 11,181,642\n",
            "Trainable params: 11,181,642\n",
            "Non-trainable params: 0\n",
            "----------------------------------------------------------------\n",
            "Input size (MB): 0.57\n",
            "Forward/backward pass size (MB): 62.79\n",
            "Params size (MB): 42.65\n",
            "Estimated Total Size (MB): 106.01\n",
            "----------------------------------------------------------------\n"
          ]
        }
      ]
    },
    {
      "cell_type": "markdown",
      "source": [
        "## 환경 설정 및 학습 함수 정의"
      ],
      "metadata": {
        "id": "-UCABNNyoAAS"
      }
    },
    {
      "cell_type": "code",
      "source": [
        "%cd /content/drive/MyDrive/resnet"
      ],
      "metadata": {
        "colab": {
          "base_uri": "https://localhost:8080/"
        },
        "id": "JgozqHpHomf9",
        "outputId": "b762d051-04a5-4a6f-be5f-d7f55c6eaf69"
      },
      "execution_count": 19,
      "outputs": [
        {
          "output_type": "stream",
          "name": "stdout",
          "text": [
            "/content/drive/MyDrive/resnet\n"
          ]
        }
      ]
    },
    {
      "cell_type": "code",
      "source": [
        "device = 'cuda'\n",
        "\n",
        "net = resnet18()\n",
        "net = net.to(device)\n",
        "net = torch.nn.DataParallel(net)\n",
        "cudnn.benchmark = True\n",
        "\n",
        "learning_rate = 0.1\n",
        "file_name = 'resnet18_Satellite.pt'\n",
        "\n",
        "criterion = nn.CrossEntropyLoss()\n",
        "optimizer = optim.SGD(net.parameters(), lr=learning_rate, momentum=0.9, weight_decay=0.0002)\n",
        "\n",
        "\n",
        "def train(epoch):\n",
        "    print('\\n[ Train epoch: %d ]' % epoch)\n",
        "    net.train()\n",
        "    train_loss = 0\n",
        "    correct = 0\n",
        "    total = 0\n",
        "    for batch_idx, (inputs, targets) in enumerate(trainloader):\n",
        "        inputs, targets = inputs.to(device), targets.to(device)\n",
        "        optimizer.zero_grad()\n",
        "\n",
        "        benign_outputs = net(inputs)\n",
        "        loss = criterion(benign_outputs, targets)\n",
        "        loss.backward()\n",
        "\n",
        "        optimizer.step()\n",
        "        train_loss += loss.item()\n",
        "        _, predicted = benign_outputs.max(1)\n",
        "\n",
        "        total += targets.size(0)\n",
        "        correct += predicted.eq(targets).sum().item()\n",
        "        \n",
        "        if batch_idx % 100 == 0:\n",
        "            print('\\nCurrent batch:', str(batch_idx))\n",
        "            print('Current benign train accuracy:', str(predicted.eq(targets).sum().item() / targets.size(0)))\n",
        "            print('Current benign train loss:', loss.item())\n",
        "\n",
        "    print('\\nTotal benign train accuarcy:', 100. * correct / total)\n",
        "    print('Total benign train loss:', train_loss)\n",
        "\n",
        "\n",
        "def test(epoch):\n",
        "    print('\\n[ Test epoch: %d ]' % epoch)\n",
        "    net.eval()\n",
        "    loss = 0\n",
        "    correct = 0\n",
        "    total = 0\n",
        "\n",
        "    for batch_idx, (inputs, targets) in enumerate(testloader):\n",
        "        inputs, targets = inputs.to(device), targets.to(device)\n",
        "        total += targets.size(0)\n",
        "\n",
        "        outputs = net(inputs)\n",
        "        loss += criterion(outputs, targets).item()\n",
        "\n",
        "        _, predicted = outputs.max(1)\n",
        "        correct += predicted.eq(targets).sum().item()\n",
        "\n",
        "    print('\\nTest accuarcy:', 100. * correct / total)\n",
        "    print('Test average loss:', loss / total)\n",
        "\n",
        "    state = {\n",
        "        'net': net.state_dict()\n",
        "    }\n",
        "    if not os.path.isdir('checkpoint'):\n",
        "        os.mkdir('checkpoint')\n",
        "    torch.save(state, './checkpoint/' + file_name)\n",
        "    print('Model Saved!')\n",
        "\n",
        "\n",
        "def adjust_learning_rate(optimizer, epoch):\n",
        "    lr = learning_rate\n",
        "    if epoch >= 100:\n",
        "        lr /= 10\n",
        "    if epoch >= 150:\n",
        "        lr /= 10\n",
        "    for param_group in optimizer.param_groups:\n",
        "        param_group['lr'] = lr"
      ],
      "metadata": {
        "id": "vsq6qSTHny92"
      },
      "execution_count": 28,
      "outputs": []
    },
    {
      "cell_type": "markdown",
      "source": [
        "## 학습"
      ],
      "metadata": {
        "id": "XAR26d1Ao4yN"
      }
    },
    {
      "cell_type": "code",
      "source": [
        "for epoch in range(0, 20):\n",
        "    adjust_learning_rate(optimizer, epoch)\n",
        "    train(epoch)\n",
        "    test(epoch)"
      ],
      "metadata": {
        "colab": {
          "base_uri": "https://localhost:8080/"
        },
        "id": "P_-U2eUvorpD",
        "outputId": "986e18f4-06b9-496d-f491-e2b58aa71c35"
      },
      "execution_count": 30,
      "outputs": [
        {
          "output_type": "stream",
          "name": "stdout",
          "text": [
            "\n",
            "[ Train epoch: 0 ]\n",
            "\n",
            "Current batch: 0\n",
            "Current benign train accuracy: 0.75\n",
            "Current benign train loss: 0.5665497779846191\n",
            "\n",
            "Current batch: 100\n",
            "Current benign train accuracy: 0.625\n",
            "Current benign train loss: 0.6204224824905396\n",
            "\n",
            "Current batch: 200\n",
            "Current benign train accuracy: 0.75\n",
            "Current benign train loss: 0.4630272090435028\n",
            "\n",
            "Total benign train accuarcy: 71.45324983804794\n",
            "Total benign train loss: 167.18887874484062\n",
            "\n",
            "[ Test epoch: 0 ]\n",
            "\n",
            "Test accuarcy: 69.7867298578199\n",
            "Test average loss: 0.03295630540575179\n",
            "Model Saved!\n",
            "\n",
            "[ Train epoch: 1 ]\n",
            "\n",
            "Current batch: 0\n",
            "Current benign train accuracy: 0.8125\n",
            "Current benign train loss: 0.43067461252212524\n",
            "\n",
            "Current batch: 100\n",
            "Current benign train accuracy: 0.75\n",
            "Current benign train loss: 0.4953882098197937\n",
            "\n",
            "Current batch: 200\n",
            "Current benign train accuracy: 0.8125\n",
            "Current benign train loss: 0.4211236238479614\n",
            "\n",
            "Total benign train accuarcy: 70.61109911466205\n",
            "Total benign train loss: 166.3248895406723\n",
            "\n",
            "[ Test epoch: 1 ]\n",
            "\n",
            "Test accuarcy: 84.95260663507109\n",
            "Test average loss: 0.025723472643661274\n",
            "Model Saved!\n",
            "\n",
            "[ Train epoch: 2 ]\n",
            "\n",
            "Current batch: 0\n",
            "Current benign train accuracy: 0.5625\n",
            "Current benign train loss: 0.8092629909515381\n",
            "\n",
            "Current batch: 100\n",
            "Current benign train accuracy: 0.75\n",
            "Current benign train loss: 0.44401490688323975\n",
            "\n",
            "Current batch: 200\n",
            "Current benign train accuracy: 0.75\n",
            "Current benign train loss: 0.4571222960948944\n",
            "\n",
            "Total benign train accuarcy: 71.51803066292378\n",
            "Total benign train loss: 165.64252266287804\n",
            "\n",
            "[ Test epoch: 2 ]\n",
            "\n",
            "Test accuarcy: 77.13270142180095\n",
            "Test average loss: 0.026956718291434065\n",
            "Model Saved!\n",
            "\n",
            "[ Train epoch: 3 ]\n",
            "\n",
            "Current batch: 0\n",
            "Current benign train accuracy: 0.75\n",
            "Current benign train loss: 0.571308970451355\n",
            "\n",
            "Current batch: 100\n",
            "Current benign train accuracy: 0.4375\n",
            "Current benign train loss: 1.0308433771133423\n",
            "\n",
            "Current batch: 200\n",
            "Current benign train accuracy: 0.6875\n",
            "Current benign train loss: 0.5582107305526733\n",
            "\n",
            "Total benign train accuarcy: 71.69077952925934\n",
            "Total benign train loss: 159.96672980487347\n",
            "\n",
            "[ Test epoch: 3 ]\n",
            "\n",
            "Test accuarcy: 66.4691943127962\n",
            "Test average loss: 0.034645168154866776\n",
            "Model Saved!\n",
            "\n",
            "[ Train epoch: 4 ]\n",
            "\n",
            "Current batch: 0\n",
            "Current benign train accuracy: 0.75\n",
            "Current benign train loss: 0.5602635145187378\n",
            "\n",
            "Current batch: 100\n",
            "Current benign train accuracy: 0.6875\n",
            "Current benign train loss: 0.6336468458175659\n",
            "\n",
            "Current batch: 200\n",
            "Current benign train accuracy: 0.75\n",
            "Current benign train loss: 0.5743750333786011\n",
            "\n",
            "Total benign train accuarcy: 73.18073850140358\n",
            "Total benign train loss: 159.52073149383068\n",
            "\n",
            "[ Test epoch: 4 ]\n",
            "\n",
            "Test accuarcy: 74.88151658767772\n",
            "Test average loss: 0.02445156624655447\n",
            "Model Saved!\n",
            "\n",
            "[ Train epoch: 5 ]\n",
            "\n",
            "Current batch: 0\n",
            "Current benign train accuracy: 0.8125\n",
            "Current benign train loss: 0.5829145312309265\n",
            "\n",
            "Current batch: 100\n",
            "Current benign train accuracy: 0.75\n",
            "Current benign train loss: 0.775635302066803\n",
            "\n",
            "Current batch: 200\n",
            "Current benign train accuracy: 0.8125\n",
            "Current benign train loss: 0.36124932765960693\n",
            "\n",
            "Total benign train accuarcy: 72.07946447851435\n",
            "Total benign train loss: 159.88474801182747\n",
            "\n",
            "[ Test epoch: 5 ]\n",
            "\n",
            "Test accuarcy: 81.39810426540285\n",
            "Test average loss: 0.026591504999034777\n",
            "Model Saved!\n",
            "\n",
            "[ Train epoch: 6 ]\n",
            "\n",
            "Current batch: 0\n",
            "Current benign train accuracy: 0.5\n",
            "Current benign train loss: 0.824720561504364\n",
            "\n",
            "Current batch: 100\n",
            "Current benign train accuracy: 0.6875\n",
            "Current benign train loss: 0.4616030156612396\n",
            "\n",
            "Current batch: 200\n",
            "Current benign train accuracy: 0.8125\n",
            "Current benign train loss: 0.5507456660270691\n",
            "\n",
            "Total benign train accuarcy: 72.83524076873246\n",
            "Total benign train loss: 157.1110862493515\n",
            "\n",
            "[ Test epoch: 6 ]\n",
            "\n",
            "Test accuarcy: 80.80568720379146\n",
            "Test average loss: 0.025171720299216525\n",
            "Model Saved!\n",
            "\n",
            "[ Train epoch: 7 ]\n",
            "\n",
            "Current batch: 0\n",
            "Current benign train accuracy: 0.75\n",
            "Current benign train loss: 0.4604421555995941\n",
            "\n",
            "Current batch: 100\n",
            "Current benign train accuracy: 0.8125\n",
            "Current benign train loss: 0.41493403911590576\n",
            "\n",
            "Current batch: 200\n",
            "Current benign train accuracy: 0.75\n",
            "Current benign train loss: 0.5446301698684692\n",
            "\n",
            "Total benign train accuarcy: 73.3318937594472\n",
            "Total benign train loss: 152.81864266097546\n",
            "\n",
            "[ Test epoch: 7 ]\n",
            "\n",
            "Test accuarcy: 73.69668246445498\n",
            "Test average loss: 0.030432924239838857\n",
            "Model Saved!\n",
            "\n",
            "[ Train epoch: 8 ]\n",
            "\n",
            "Current batch: 0\n",
            "Current benign train accuracy: 0.75\n",
            "Current benign train loss: 0.5381189584732056\n",
            "\n",
            "Current batch: 100\n",
            "Current benign train accuracy: 0.625\n",
            "Current benign train loss: 0.5139870643615723\n",
            "\n",
            "Current batch: 200\n",
            "Current benign train accuracy: 0.875\n",
            "Current benign train loss: 0.3436380624771118\n",
            "\n",
            "Total benign train accuarcy: 73.78535953357806\n",
            "Total benign train loss: 154.99354967474937\n",
            "\n",
            "[ Test epoch: 8 ]\n",
            "\n",
            "Test accuarcy: 70.85308056872037\n",
            "Test average loss: 0.027987747077975793\n",
            "Model Saved!\n",
            "\n",
            "[ Train epoch: 9 ]\n",
            "\n",
            "Current batch: 0\n",
            "Current benign train accuracy: 0.8125\n",
            "Current benign train loss: 0.43399161100387573\n",
            "\n",
            "Current batch: 100\n",
            "Current benign train accuracy: 0.8125\n",
            "Current benign train loss: 0.504697859287262\n",
            "\n",
            "Current batch: 200\n",
            "Current benign train accuracy: 0.625\n",
            "Current benign train loss: 0.700975239276886\n",
            "\n",
            "Total benign train accuarcy: 74.38998056575254\n",
            "Total benign train loss: 153.78145891427994\n",
            "\n",
            "[ Test epoch: 9 ]\n",
            "\n",
            "Test accuarcy: 77.3696682464455\n",
            "Test average loss: 0.028581465740127585\n",
            "Model Saved!\n",
            "\n",
            "[ Train epoch: 10 ]\n",
            "\n",
            "Current batch: 0\n",
            "Current benign train accuracy: 0.75\n",
            "Current benign train loss: 0.44167637825012207\n",
            "\n",
            "Current batch: 100\n",
            "Current benign train accuracy: 0.75\n",
            "Current benign train loss: 0.516467809677124\n",
            "\n",
            "Current batch: 200\n",
            "Current benign train accuracy: 0.625\n",
            "Current benign train loss: 0.7133627533912659\n",
            "\n",
            "Total benign train accuarcy: 73.67739149211833\n",
            "Total benign train loss: 153.07061380147934\n",
            "\n",
            "[ Test epoch: 10 ]\n",
            "\n",
            "Test accuarcy: 84.83412322274881\n",
            "Test average loss: 0.027594501964783216\n",
            "Model Saved!\n",
            "\n",
            "[ Train epoch: 11 ]\n",
            "\n",
            "Current batch: 0\n",
            "Current benign train accuracy: 0.875\n",
            "Current benign train loss: 0.4126984477043152\n",
            "\n",
            "Current batch: 100\n",
            "Current benign train accuracy: 0.8125\n",
            "Current benign train loss: 0.4209359288215637\n",
            "\n",
            "Current batch: 200\n",
            "Current benign train accuracy: 0.8125\n",
            "Current benign train loss: 0.5418956279754639\n",
            "\n",
            "Total benign train accuarcy: 73.72057870870222\n",
            "Total benign train loss: 151.78258429467678\n",
            "\n",
            "[ Test epoch: 11 ]\n",
            "\n",
            "Test accuarcy: 84.12322274881517\n",
            "Test average loss: 0.027707727264030285\n",
            "Model Saved!\n",
            "\n",
            "[ Train epoch: 12 ]\n",
            "\n",
            "Current batch: 0\n",
            "Current benign train accuracy: 0.625\n",
            "Current benign train loss: 0.820829451084137\n",
            "\n",
            "Current batch: 100\n",
            "Current benign train accuracy: 0.8125\n",
            "Current benign train loss: 0.5218479633331299\n",
            "\n",
            "Current batch: 200\n",
            "Current benign train accuracy: 0.75\n",
            "Current benign train loss: 0.4249231219291687\n",
            "\n",
            "Total benign train accuarcy: 73.95810839991363\n",
            "Total benign train loss: 154.9881156682968\n",
            "\n",
            "[ Test epoch: 12 ]\n",
            "\n",
            "Test accuarcy: 69.66824644549763\n",
            "Test average loss: 0.041615566666904504\n",
            "Model Saved!\n",
            "\n",
            "[ Train epoch: 13 ]\n",
            "\n",
            "Current batch: 0\n",
            "Current benign train accuracy: 0.8125\n",
            "Current benign train loss: 0.5069753527641296\n",
            "\n",
            "Current batch: 100\n",
            "Current benign train accuracy: 0.8125\n",
            "Current benign train loss: 0.5521059632301331\n",
            "\n",
            "Current batch: 200\n",
            "Current benign train accuracy: 0.625\n",
            "Current benign train loss: 0.5398023128509521\n",
            "\n",
            "Total benign train accuarcy: 73.59101705895056\n",
            "Total benign train loss: 153.84964783489704\n",
            "\n",
            "[ Test epoch: 13 ]\n",
            "\n",
            "Test accuarcy: 82.1090047393365\n",
            "Test average loss: 0.029216868644006445\n",
            "Model Saved!\n",
            "\n",
            "[ Train epoch: 14 ]\n",
            "\n",
            "Current batch: 0\n",
            "Current benign train accuracy: 0.625\n",
            "Current benign train loss: 0.6112844347953796\n",
            "\n",
            "Current batch: 100\n",
            "Current benign train accuracy: 0.6875\n",
            "Current benign train loss: 0.4267179071903229\n",
            "\n",
            "Current batch: 200\n",
            "Current benign train accuracy: 0.75\n",
            "Current benign train loss: 0.5483665466308594\n",
            "\n",
            "Total benign train accuarcy: 74.51954221550422\n",
            "Total benign train loss: 153.83935552835464\n",
            "\n",
            "[ Test epoch: 14 ]\n",
            "\n",
            "Test accuarcy: 72.03791469194313\n",
            "Test average loss: 0.03461937782447344\n",
            "Model Saved!\n",
            "\n",
            "[ Train epoch: 15 ]\n",
            "\n",
            "Current batch: 0\n",
            "Current benign train accuracy: 0.625\n",
            "Current benign train loss: 0.5323449373245239\n",
            "\n",
            "Current batch: 100\n",
            "Current benign train accuracy: 0.8125\n",
            "Current benign train loss: 0.413899689912796\n",
            "\n",
            "Current batch: 200\n",
            "Current benign train accuracy: 0.6875\n",
            "Current benign train loss: 0.46447864174842834\n",
            "\n",
            "Total benign train accuarcy: 73.26711293457137\n",
            "Total benign train loss: 154.98789067566395\n",
            "\n",
            "[ Test epoch: 15 ]\n",
            "\n",
            "Test accuarcy: 68.95734597156398\n",
            "Test average loss: 0.033740175654008206\n",
            "Model Saved!\n",
            "\n",
            "[ Train epoch: 16 ]\n",
            "\n",
            "Current batch: 0\n",
            "Current benign train accuracy: 0.6875\n",
            "Current benign train loss: 0.729706346988678\n",
            "\n",
            "Current batch: 100\n",
            "Current benign train accuracy: 0.75\n",
            "Current benign train loss: 0.4948849380016327\n",
            "\n",
            "Current batch: 200\n",
            "Current benign train accuracy: 0.9375\n",
            "Current benign train loss: 0.3920050859451294\n",
            "\n",
            "Total benign train accuarcy: 74.17404448283308\n",
            "Total benign train loss: 150.48040184378624\n",
            "\n",
            "[ Test epoch: 16 ]\n",
            "\n",
            "Test accuarcy: 69.90521327014218\n",
            "Test average loss: 0.029997312609477064\n",
            "Model Saved!\n",
            "\n",
            "[ Train epoch: 17 ]\n",
            "\n",
            "Current batch: 0\n",
            "Current benign train accuracy: 0.8125\n",
            "Current benign train loss: 0.5685992240905762\n",
            "\n",
            "Current batch: 100\n",
            "Current benign train accuracy: 0.8125\n",
            "Current benign train loss: 0.528352677822113\n",
            "\n",
            "Current batch: 200\n",
            "Current benign train accuracy: 0.6875\n",
            "Current benign train loss: 0.4969824254512787\n",
            "\n",
            "Total benign train accuarcy: 73.8501403584539\n",
            "Total benign train loss: 157.80499316751957\n",
            "\n",
            "[ Test epoch: 17 ]\n",
            "\n",
            "Test accuarcy: 67.65402843601896\n",
            "Test average loss: 0.034960753227014675\n",
            "Model Saved!\n",
            "\n",
            "[ Train epoch: 18 ]\n",
            "\n",
            "Current batch: 0\n",
            "Current benign train accuracy: 0.625\n",
            "Current benign train loss: 0.5412260293960571\n",
            "\n",
            "Current batch: 100\n",
            "Current benign train accuracy: 0.75\n",
            "Current benign train loss: 0.45692113041877747\n",
            "\n",
            "Current batch: 200\n",
            "Current benign train accuracy: 0.625\n",
            "Current benign train loss: 0.8136091232299805\n",
            "\n",
            "Total benign train accuarcy: 74.86503994817534\n",
            "Total benign train loss: 148.95707209408283\n",
            "\n",
            "[ Test epoch: 18 ]\n",
            "\n",
            "Test accuarcy: 71.2085308056872\n",
            "Test average loss: 0.03436483386286062\n",
            "Model Saved!\n",
            "\n",
            "[ Train epoch: 19 ]\n",
            "\n",
            "Current batch: 0\n",
            "Current benign train accuracy: 0.6875\n",
            "Current benign train loss: 0.4897918999195099\n",
            "\n",
            "Current batch: 100\n",
            "Current benign train accuracy: 0.75\n",
            "Current benign train loss: 0.6996062397956848\n",
            "\n",
            "Current batch: 200\n",
            "Current benign train accuracy: 0.5625\n",
            "Current benign train loss: 0.5661491751670837\n",
            "\n",
            "Total benign train accuarcy: 74.51954221550422\n",
            "Total benign train loss: 150.11618775129318\n",
            "\n",
            "[ Test epoch: 19 ]\n",
            "\n",
            "Test accuarcy: 69.7867298578199\n",
            "Test average loss: 0.04031649017397544\n",
            "Model Saved!\n"
          ]
        }
      ]
    }
  ]
}